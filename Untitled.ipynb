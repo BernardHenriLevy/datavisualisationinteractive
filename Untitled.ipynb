{
 "cells": [
  {
   "cell_type": "code",
   "execution_count": 1,
   "metadata": {},
   "outputs": [],
   "source": [
    "import math\n",
    "from pomegranate import *\n",
    "import json\n",
    "\n",
    "\n",
    "### PARAMETRAGE DES NOEUDS\n",
    "cloudy_parameters = {'V': 0.5, 'F': 0.5}\n",
    "cloudy = DiscreteDistribution(cloudy_parameters)\n",
    "\n",
    "sprinkler_parameters = [['V', 'V',  0.1],['V', 'F',  0.9],['F', 'F', 0.5],['F', 'V',  0.5]]\n",
    "sprinkler = ConditionalProbabilityTable(sprinkler_parameters, [cloudy])\n",
    "\n",
    "\n",
    "rain_parameters = [['V', 'V',  0.8],['V', 'F',  0.2],['F', 'F', 0.8],['F', 'V',  0.2]]\n",
    "rain = ConditionalProbabilityTable(rain_parameters, [cloudy])\n",
    "\n",
    "\n",
    "wetgrass_parameters =  [['V', 'V','V',  0.99],['V', 'V','F',  0.01],['V', 'F','V',  0.9],['V', 'F','F',  0.1],['F', 'V','V',  0.9],['F', 'V','F',  0.1],['F', 'F','V',  0],['F', 'F','F' , 1],]\n",
    "wetgrass = ConditionalProbabilityTable(wetgrass_parameters, [sprinkler,rain])\n",
    "\n",
    "d1 = State(cloudy, name=\"Cloudy\")\n",
    "d2 = State(sprinkler, name=\"Sprinkler\")\n",
    "d3 = State(rain,  name=\"Rain\")\n",
    "d4 = State(wetgrass,  name=\"Wetgrass\")\n",
    "\n",
    "\n",
    "network = BayesianNetwork(\"Prédiction\")\n",
    "network.add_states(d1, d2, d3,d4)\n",
    "network.add_edge(d1, d2)\n",
    "network.add_edge(d1, d3)\n",
    "network.add_edge(d2, d4)\n",
    "network.add_edge(d3, d4)\n",
    "\n",
    "network.bake()\n"
   ]
  },
  {
   "cell_type": "code",
   "execution_count": 2,
   "metadata": {},
   "outputs": [
    {
     "name": "stdout",
     "output_type": "stream",
     "text": [
      "Prédiction:{\n",
      "    \"class\" : \"State\",\n",
      "    \"distribution\" : {\n",
      "        \"class\" : \"Distribution\",\n",
      "        \"dtype\" : \"str\",\n",
      "        \"name\" : \"DiscreteDistribution\",\n",
      "        \"parameters\" : [\n",
      "            {\n",
      "                \"V\" : 0.5,\n",
      "                \"F\" : 0.5\n",
      "            }\n",
      "        ],\n",
      "        \"frozen\" : false\n",
      "    },\n",
      "    \"name\" : \"Cloudy\",\n",
      "    \"weight\" : 1.0\n",
      "}{\n",
      "    \"class\" : \"State\",\n",
      "    \"distribution\" : {\n",
      "        \"class\" : \"Distribution\",\n",
      "        \"name\" : \"ConditionalProbabilityTable\",\n",
      "        \"table\" : [\n",
      "            [\n",
      "                \"V\",\n",
      "                \"V\",\n",
      "                \"0.10000000000000002\"\n",
      "            ],\n",
      "            [\n",
      "                \"V\",\n",
      "                \"F\",\n",
      "                \"0.9\"\n",
      "            ],\n",
      "            [\n",
      "                \"F\",\n",
      "                \"V\",\n",
      "                \"0.5\"\n",
      "            ],\n",
      "            [\n",
      "                \"F\",\n",
      "                \"F\",\n",
      "                \"0.5\"\n",
      "            ]\n",
      "        ],\n",
      "        \"dtypes\" : [\n",
      "            \"str\",\n",
      "            \"str\",\n",
      "            \"float\"\n",
      "        ],\n",
      "        \"parents\" : [\n",
      "            {\n",
      "                \"class\" : \"Distribution\",\n",
      "                \"dtype\" : \"str\",\n",
      "                \"name\" : \"DiscreteDistribution\",\n",
      "                \"parameters\" : [\n",
      "                    {\n",
      "                        \"V\" : 0.5,\n",
      "                        \"F\" : 0.5\n",
      "                    }\n",
      "                ],\n",
      "                \"frozen\" : false\n",
      "            }\n",
      "        ]\n",
      "    },\n",
      "    \"name\" : \"Sprinkler\",\n",
      "    \"weight\" : 1.0\n",
      "}{\n",
      "    \"class\" : \"State\",\n",
      "    \"distribution\" : {\n",
      "        \"class\" : \"Distribution\",\n",
      "        \"name\" : \"ConditionalProbabilityTable\",\n",
      "        \"table\" : [\n",
      "            [\n",
      "                \"V\",\n",
      "                \"V\",\n",
      "                \"0.8\"\n",
      "            ],\n",
      "            [\n",
      "                \"V\",\n",
      "                \"F\",\n",
      "                \"0.2\"\n",
      "            ],\n",
      "            [\n",
      "                \"F\",\n",
      "                \"V\",\n",
      "                \"0.2\"\n",
      "            ],\n",
      "            [\n",
      "                \"F\",\n",
      "                \"F\",\n",
      "                \"0.8\"\n",
      "            ]\n",
      "        ],\n",
      "        \"dtypes\" : [\n",
      "            \"str\",\n",
      "            \"str\",\n",
      "            \"float\"\n",
      "        ],\n",
      "        \"parents\" : [\n",
      "            {\n",
      "                \"class\" : \"Distribution\",\n",
      "                \"dtype\" : \"str\",\n",
      "                \"name\" : \"DiscreteDistribution\",\n",
      "                \"parameters\" : [\n",
      "                    {\n",
      "                        \"V\" : 0.5,\n",
      "                        \"F\" : 0.5\n",
      "                    }\n",
      "                ],\n",
      "                \"frozen\" : false\n",
      "            }\n",
      "        ]\n",
      "    },\n",
      "    \"name\" : \"Rain\",\n",
      "    \"weight\" : 1.0\n",
      "}{\n",
      "    \"class\" : \"State\",\n",
      "    \"distribution\" : {\n",
      "        \"class\" : \"Distribution\",\n",
      "        \"name\" : \"ConditionalProbabilityTable\",\n",
      "        \"table\" : [\n",
      "            [\n",
      "                \"V\",\n",
      "                \"V\",\n",
      "                \"V\",\n",
      "                \"0.99\"\n",
      "            ],\n",
      "            [\n",
      "                \"V\",\n",
      "                \"V\",\n",
      "                \"F\",\n",
      "                \"0.010000000000000004\"\n",
      "            ],\n",
      "            [\n",
      "                \"V\",\n",
      "                \"F\",\n",
      "                \"V\",\n",
      "                \"0.9\"\n",
      "            ],\n",
      "            [\n",
      "                \"V\",\n",
      "                \"F\",\n",
      "                \"F\",\n",
      "                \"0.10000000000000002\"\n",
      "            ],\n",
      "            [\n",
      "                \"F\",\n",
      "                \"V\",\n",
      "                \"V\",\n",
      "                \"0.9\"\n",
      "            ],\n",
      "            [\n",
      "                \"F\",\n",
      "                \"V\",\n",
      "                \"F\",\n",
      "                \"0.10000000000000002\"\n",
      "            ],\n",
      "            [\n",
      "                \"F\",\n",
      "                \"F\",\n",
      "                \"V\",\n",
      "                \"0.0\"\n",
      "            ],\n",
      "            [\n",
      "                \"F\",\n",
      "                \"F\",\n",
      "                \"F\",\n",
      "                \"1.0\"\n",
      "            ]\n",
      "        ],\n",
      "        \"dtypes\" : [\n",
      "            \"str\",\n",
      "            \"str\",\n",
      "            \"str\",\n",
      "            \"float\"\n",
      "        ],\n",
      "        \"parents\" : [\n",
      "            {\n",
      "                \"class\" : \"Distribution\",\n",
      "                \"name\" : \"ConditionalProbabilityTable\",\n",
      "                \"table\" : [\n",
      "                    [\n",
      "                        \"V\",\n",
      "                        \"V\",\n",
      "                        \"0.10000000000000002\"\n",
      "                    ],\n",
      "                    [\n",
      "                        \"V\",\n",
      "                        \"F\",\n",
      "                        \"0.9\"\n",
      "                    ],\n",
      "                    [\n",
      "                        \"F\",\n",
      "                        \"V\",\n",
      "                        \"0.5\"\n",
      "                    ],\n",
      "                    [\n",
      "                        \"F\",\n",
      "                        \"F\",\n",
      "                        \"0.5\"\n",
      "                    ]\n",
      "                ],\n",
      "                \"dtypes\" : [\n",
      "                    \"str\",\n",
      "                    \"str\",\n",
      "                    \"float\"\n",
      "                ],\n",
      "                \"parents\" : [\n",
      "                    {\n",
      "                        \"class\" : \"Distribution\",\n",
      "                        \"dtype\" : \"str\",\n",
      "                        \"name\" : \"DiscreteDistribution\",\n",
      "                        \"parameters\" : [\n",
      "                            {\n",
      "                                \"V\" : 0.5,\n",
      "                                \"F\" : 0.5\n",
      "                            }\n",
      "                        ],\n",
      "                        \"frozen\" : false\n",
      "                    }\n",
      "                ]\n",
      "            },\n",
      "            {\n",
      "                \"class\" : \"Distribution\",\n",
      "                \"name\" : \"ConditionalProbabilityTable\",\n",
      "                \"table\" : [\n",
      "                    [\n",
      "                        \"V\",\n",
      "                        \"V\",\n",
      "                        \"0.8\"\n",
      "                    ],\n",
      "                    [\n",
      "                        \"V\",\n",
      "                        \"F\",\n",
      "                        \"0.2\"\n",
      "                    ],\n",
      "                    [\n",
      "                        \"F\",\n",
      "                        \"V\",\n",
      "                        \"0.2\"\n",
      "                    ],\n",
      "                    [\n",
      "                        \"F\",\n",
      "                        \"F\",\n",
      "                        \"0.8\"\n",
      "                    ]\n",
      "                ],\n",
      "                \"dtypes\" : [\n",
      "                    \"str\",\n",
      "                    \"str\",\n",
      "                    \"float\"\n",
      "                ],\n",
      "                \"parents\" : [\n",
      "                    {\n",
      "                        \"class\" : \"Distribution\",\n",
      "                        \"dtype\" : \"str\",\n",
      "                        \"name\" : \"DiscreteDistribution\",\n",
      "                        \"parameters\" : [\n",
      "                            {\n",
      "                                \"V\" : 0.5,\n",
      "                                \"F\" : 0.5\n",
      "                            }\n",
      "                        ],\n",
      "                        \"frozen\" : false\n",
      "                    }\n",
      "                ]\n",
      "            }\n",
      "        ]\n",
      "    },\n",
      "    \"name\" : \"Wetgrass\",\n",
      "    \"weight\" : 1.0\n",
      "}\n"
     ]
    }
   ],
   "source": [
    "print(network)"
   ]
  },
  {
   "cell_type": "code",
   "execution_count": 3,
   "metadata": {},
   "outputs": [],
   "source": [
    "def get_state_by_name(node_name):\n",
    "    global network\n",
    "    for state in network.states:\n",
    "        if(state.name==node_name):\n",
    "            if(state.distribution.name==\"DiscreteDistribution\"):\n",
    "                return state.distribution.parameters,state.distribution.name\n",
    "            if(state.distribution.name==\"ConditionalProbabilityTable\"):\n",
    "                return state.distribution.parameters[0],state.distribution.name\n",
    "        \n",
    "def update_state_by_name(node_name,table):\n",
    "    global network\n",
    "    for state in network.states:\n",
    "        if(state.name==node_name):\n",
    "               state.distribution.parameters[0] = table\n",
    "    \n",
    "    \n"
   ]
  },
  {
   "cell_type": "code",
   "execution_count": 4,
   "metadata": {},
   "outputs": [
    {
     "name": "stdout",
     "output_type": "stream",
     "text": [
      "[{'V': 0.5, 'F': 0.5}]\n",
      "DiscreteDistribution\n",
      "[['V', 'V', 0.1], ['V', 'F', 0.9], ['F', 'F', 0.5], ['F', 'V', 0.5]]\n",
      "ConditionalProbabilityTable\n"
     ]
    }
   ],
   "source": [
    "res , res1  = get_state_by_name(\"Cloudy\")\n",
    "print(res)\n",
    "print(res1)\n",
    "res , res1  = get_state_by_name(\"Sprinkler\")\n",
    "print(res)\n",
    "print(res1)"
   ]
  },
  {
   "cell_type": "code",
   "execution_count": 5,
   "metadata": {},
   "outputs": [
    {
     "name": "stdout",
     "output_type": "stream",
     "text": [
      "[{'Parent1': 'V', 'Parent2': 'V', 'Valeur': 'V', 'Proba': 0.99}, {'Parent1': 'V', 'Parent2': 'V', 'Valeur': 'F', 'Proba': 0.01}, {'Parent1': 'V', 'Parent2': 'F', 'Valeur': 'V', 'Proba': 0.9}, {'Parent1': 'V', 'Parent2': 'F', 'Valeur': 'F', 'Proba': 0.1}, {'Parent1': 'F', 'Parent2': 'V', 'Valeur': 'V', 'Proba': 0.9}, {'Parent1': 'F', 'Parent2': 'V', 'Valeur': 'F', 'Proba': 0.1}, {'Parent1': 'F', 'Parent2': 'F', 'Valeur': 'V', 'Proba': 0}, {'Parent1': 'F', 'Parent2': 'F', 'Valeur': 'F', 'Proba': 1}]\n"
     ]
    }
   ],
   "source": [
    "    res , res1  = get_state_by_name(\"Wetgrass\")\n",
    "    params = []\n",
    "    \n",
    "    #Nommage des colonnes \n",
    "    for i in range(0,len(res[0])):\n",
    "        if i == len(res[0])-1:\n",
    "            params.append(\"Proba\")\n",
    "        elif i == len(res[0])-2:\n",
    "            params.append(\"Valeur\")\n",
    "        else:\n",
    "            params.append(\"Parent\"+str(i+1))\n",
    "   \n",
    "\n",
    "    cols = (\n",
    "            [{'id': p, 'name': p} for p in params]\n",
    "    )\n",
    "\n",
    "    data = []\n",
    "    \n",
    "    for r in res:\n",
    "        dic = {}\n",
    "        for idx, val in enumerate(params):\n",
    "            dic[val] = r[idx]\n",
    "        data.append(dic)\n",
    "    print(data)"
   ]
  },
  {
   "cell_type": "code",
   "execution_count": 6,
   "metadata": {},
   "outputs": [
    {
     "name": "stdout",
     "output_type": "stream",
     "text": [
      "[{'Parent1': 'V'}, {'Parent2': 'V'}, {'Valeur': 'V'}, {'Proba': 0.99}, {'Parent1': 'V'}, {'Parent2': 'V'}, {'Valeur': 'F'}, {'Proba': 0.01}, {'Parent1': 'V'}, {'Parent2': 'F'}, {'Valeur': 'V'}, {'Proba': 0.9}, {'Parent1': 'V'}, {'Parent2': 'F'}, {'Valeur': 'F'}, {'Proba': 0.1}, {'Parent1': 'F'}, {'Parent2': 'V'}, {'Valeur': 'V'}, {'Proba': 0.9}, {'Parent1': 'F'}, {'Parent2': 'V'}, {'Valeur': 'F'}, {'Proba': 0.1}, {'Parent1': 'F'}, {'Parent2': 'F'}, {'Valeur': 'V'}, {'Proba': 0}, {'Parent1': 'F'}, {'Parent2': 'F'}, {'Valeur': 'F'}, {'Proba': 1}]\n"
     ]
    }
   ],
   "source": [
    "    res , res1  = get_state_by_name(\"Wetgrass\")\n",
    "    params = []\n",
    "    \n",
    "    #Nommage des colonnes \n",
    "    for i in range(0,len(res[0])):\n",
    "        if i == len(res[0])-1:\n",
    "            params.append(\"Proba\")\n",
    "        elif i == len(res[0])-2:\n",
    "            params.append(\"Valeur\")\n",
    "        else:\n",
    "            params.append(\"Parent\"+str(i+1))\n",
    "   \n",
    "\n",
    "    cols = (\n",
    "            [{'id': p, 'name': p} for p in params]\n",
    "    )\n",
    "\n",
    "    data = []\n",
    "    \n",
    "    for r in res:\n",
    "        for idx, val in enumerate(params):\n",
    "            dic = {val:r[idx]}\n",
    "            data.append(dic)\n",
    "    print(data)"
   ]
  },
  {
   "cell_type": "code",
   "execution_count": 7,
   "metadata": {},
   "outputs": [
    {
     "ename": "NameError",
     "evalue": "name 'get_state_type_by_name' is not defined",
     "output_type": "error",
     "traceback": [
      "\u001b[1;31m---------------------------------------------------------------------------\u001b[0m",
      "\u001b[1;31mNameError\u001b[0m                                 Traceback (most recent call last)",
      "\u001b[1;32m<ipython-input-7-26ffb041a11a>\u001b[0m in \u001b[0;36m<module>\u001b[1;34m\u001b[0m\n\u001b[1;32m----> 1\u001b[1;33m \u001b[0mres\u001b[0m\u001b[1;33m,\u001b[0m\u001b[0mres1\u001b[0m \u001b[1;33m=\u001b[0m \u001b[0mget_state_type_by_name\u001b[0m\u001b[1;33m(\u001b[0m\u001b[1;34m'Cloudy'\u001b[0m\u001b[1;33m)\u001b[0m\u001b[1;33m\u001b[0m\u001b[1;33m\u001b[0m\u001b[0m\n\u001b[0m\u001b[0;32m      2\u001b[0m \u001b[0mprint\u001b[0m\u001b[1;33m(\u001b[0m\u001b[0mres\u001b[0m\u001b[1;33m,\u001b[0m\u001b[0mres1\u001b[0m\u001b[1;33m)\u001b[0m\u001b[1;33m\u001b[0m\u001b[1;33m\u001b[0m\u001b[0m\n",
      "\u001b[1;31mNameError\u001b[0m: name 'get_state_type_by_name' is not defined"
     ]
    }
   ],
   "source": [
    "res,res1 = get_state_type_by_name('Cloudy')\n",
    "print(res,res1)"
   ]
  },
  {
   "cell_type": "code",
   "execution_count": 8,
   "metadata": {},
   "outputs": [
    {
     "name": "stdout",
     "output_type": "stream",
     "text": [
      "[{'V': 0.5, 'F': 0.5}]\n"
     ]
    }
   ],
   "source": [
    "global network\n",
    "for state in network.states:\n",
    "    if(state.name==\"Cloudy\"):\n",
    "            print(state.distribution.parameters)"
   ]
  },
  {
   "cell_type": "code",
   "execution_count": 4,
   "metadata": {},
   "outputs": [
    {
     "name": "stdout",
     "output_type": "stream",
     "text": [
      "{'sprinkler': {'F': 0.8999999999999997, 'V': 0.10000000000000034}, 'rain': {'F': 0.2000000000000003, 'V': 0.7999999999999998}, 'wetgrass': {'F': 0.25480000000000014, 'V': 0.7451999999999999}, 'cloudy': 'V'}\n"
     ]
    }
   ],
   "source": [
    "def predict(dictionnary):\n",
    "\n",
    "    beliefs = network.predict_proba(dictionnary)\n",
    "    beliefs = map(str, beliefs)\n",
    "\n",
    "    result = {}\n",
    "    \n",
    "    for state, belief in zip( network.states, beliefs ):\n",
    "        #print(state.name)\n",
    "    #Uniquement quand le réseaux retoure un json \n",
    "        if len(belief)> 3:\n",
    "            y = json.loads(belief)\n",
    "            #print(y['parameters'][0])\n",
    "            result[state.name] = y['parameters'][0]\n",
    "    for d in dictionnary:\n",
    "        result[d] = dictionnary[d]\n",
    "    return result\n",
    "\n",
    "dic = {'cloudy': 'V'}\n",
    "\n",
    "res = predict(dic)\n",
    "\n",
    "print(res)"
   ]
  },
  {
   "cell_type": "code",
   "execution_count": 5,
   "metadata": {},
   "outputs": [
    {
     "name": "stdout",
     "output_type": "stream",
     "text": [
      "{'F': 0.8999999999999997, 'V': 0.10000000000000034}\n"
     ]
    }
   ],
   "source": [
    "print(res['sprinkler'])"
   ]
  },
  {
   "cell_type": "code",
   "execution_count": 6,
   "metadata": {},
   "outputs": [
    {
     "data": {
      "text/plain": [
       "{\n",
       "    \"class\" :\"Distribution\",\n",
       "    \"dtype\" :\"str\",\n",
       "    \"name\" :\"DiscreteDistribution\",\n",
       "    \"parameters\" :[\n",
       "        {\n",
       "            \"V\" :0.5,\n",
       "            \"F\" :0.5\n",
       "        }\n",
       "    ],\n",
       "    \"frozen\" :false\n",
       "}"
      ]
     },
     "execution_count": 6,
     "metadata": {},
     "output_type": "execute_result"
    }
   ],
   "source": [
    "cloudy\n"
   ]
  },
  {
   "cell_type": "code",
   "execution_count": 7,
   "metadata": {},
   "outputs": [
    {
     "name": "stdout",
     "output_type": "stream",
     "text": [
      "V\n",
      "0.5\n",
      "F\n",
      "0.5\n"
     ]
    }
   ],
   "source": [
    "for param in cloudy.parameters[0]:\n",
    "    print(param)\n",
    "    print(cloudy.parameters[0][param])\n"
   ]
  },
  {
   "cell_type": "code",
   "execution_count": 8,
   "metadata": {},
   "outputs": [
    {
     "data": {
      "text/plain": [
       "{\n",
       "    \"class\" : \"Distribution\",\n",
       "    \"name\" : \"ConditionalProbabilityTable\",\n",
       "    \"table\" : [\n",
       "        [\n",
       "            \"V\",\n",
       "            \"F\",\n",
       "            \"0.9\"\n",
       "        ],\n",
       "        [\n",
       "            \"V\",\n",
       "            \"V\",\n",
       "            \"0.10000000000000002\"\n",
       "        ],\n",
       "        [\n",
       "            \"F\",\n",
       "            \"F\",\n",
       "            \"0.5\"\n",
       "        ],\n",
       "        [\n",
       "            \"F\",\n",
       "            \"V\",\n",
       "            \"0.5\"\n",
       "        ]\n",
       "    ],\n",
       "    \"dtypes\" : [\n",
       "        \"str\",\n",
       "        \"str\",\n",
       "        \"float\"\n",
       "    ],\n",
       "    \"parents\" : [\n",
       "        {\n",
       "            \"class\" : \"Distribution\",\n",
       "            \"dtype\" : \"str\",\n",
       "            \"name\" : \"DiscreteDistribution\",\n",
       "            \"parameters\" : [\n",
       "                {\n",
       "                    \"V\" : 0.5,\n",
       "                    \"F\" : 0.5\n",
       "                }\n",
       "            ],\n",
       "            \"frozen\" : false\n",
       "        }\n",
       "    ]\n",
       "}"
      ]
     },
     "execution_count": 8,
     "metadata": {},
     "output_type": "execute_result"
    }
   ],
   "source": [
    "sprinkler\n",
    "\n"
   ]
  },
  {
   "cell_type": "code",
   "execution_count": 9,
   "metadata": {},
   "outputs": [
    {
     "ename": "TypeError",
     "evalue": "'pomegranate.distributions.ConditionalProbabilityTable.ConditionalProbabilityTable' object is not subscriptable",
     "output_type": "error",
     "traceback": [
      "\u001b[1;31m---------------------------------------------------------------------------\u001b[0m",
      "\u001b[1;31mTypeError\u001b[0m                                 Traceback (most recent call last)",
      "\u001b[1;32m<ipython-input-9-03ee5ee9da19>\u001b[0m in \u001b[0;36m<module>\u001b[1;34m\u001b[0m\n\u001b[1;32m----> 1\u001b[1;33m \u001b[0msprinkler\u001b[0m\u001b[1;33m[\u001b[0m\u001b[1;34m'points'\u001b[0m\u001b[1;33m]\u001b[0m\u001b[1;33m[\u001b[0m\u001b[1;36m0\u001b[0m\u001b[1;33m]\u001b[0m\u001b[1;33m[\u001b[0m\u001b[1;34m'text'\u001b[0m\u001b[1;33m]\u001b[0m\u001b[1;33m\u001b[0m\u001b[1;33m\u001b[0m\u001b[0m\n\u001b[0m",
      "\u001b[1;31mTypeError\u001b[0m: 'pomegranate.distributions.ConditionalProbabilityTable.ConditionalProbabilityTable' object is not subscriptable"
     ]
    }
   ],
   "source": [
    "sprinkler['points'][0]['text']"
   ]
  },
  {
   "cell_type": "code",
   "execution_count": null,
   "metadata": {},
   "outputs": [],
   "source": []
  },
  {
   "cell_type": "code",
   "execution_count": null,
   "metadata": {},
   "outputs": [],
   "source": []
  },
  {
   "cell_type": "code",
   "execution_count": null,
   "metadata": {},
   "outputs": [],
   "source": []
  }
 ],
 "metadata": {
  "kernelspec": {
   "display_name": "Python 3",
   "language": "python",
   "name": "python3"
  },
  "language_info": {
   "codemirror_mode": {
    "name": "ipython",
    "version": 3
   },
   "file_extension": ".py",
   "mimetype": "text/x-python",
   "name": "python",
   "nbconvert_exporter": "python",
   "pygments_lexer": "ipython3",
   "version": "3.7.4"
  }
 },
 "nbformat": 4,
 "nbformat_minor": 2
}
